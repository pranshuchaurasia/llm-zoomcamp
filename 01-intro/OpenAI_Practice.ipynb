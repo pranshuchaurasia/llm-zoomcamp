{
 "cells": [
  {
   "cell_type": "code",
   "execution_count": 2,
   "id": "031167a5-fbbf-4878-8513-682ff90284b4",
   "metadata": {},
   "outputs": [],
   "source": [
    "import openai\n",
    "from openai import OpenAI\n",
    "import os"
   ]
  },
  {
   "cell_type": "code",
   "execution_count": 4,
   "id": "e90ccb24-882d-4b30-b00b-69291eaa3e89",
   "metadata": {},
   "outputs": [],
   "source": [
    "from dotenv import load_dotenv, find_dotenv\n",
    "_ = load_dotenv(find_dotenv())\n",
    "\n",
    "openai.api_key=os.getenv(\"OPENAI_API_KEY\")"
   ]
  },
  {
   "cell_type": "code",
   "execution_count": 5,
   "id": "fdb76ade-9120-41da-8e9a-7dc277c770ed",
   "metadata": {},
   "outputs": [],
   "source": [
    "client = OpenAI()"
   ]
  },
  {
   "cell_type": "code",
   "execution_count": 10,
   "id": "aa1ad613-9ccf-4909-908a-5dc9bf2e9e0c",
   "metadata": {},
   "outputs": [],
   "source": [
    "#os.environ"
   ]
  },
  {
   "cell_type": "code",
   "execution_count": 6,
   "id": "9e2b94c6-1a36-4e2c-a707-16629cee5b54",
   "metadata": {},
   "outputs": [],
   "source": [
    "response= client.chat.completions.create(\n",
    "    model=\"gpt-4o\",\n",
    "    messages=[{\"role\": \"user\", \"content\": \"Any good news lately about Anthropic ?\"}]\n",
    "    )"
   ]
  },
  {
   "cell_type": "code",
   "execution_count": 7,
   "id": "d1ccf604-10ca-4b04-b170-5a3f7be24348",
   "metadata": {},
   "outputs": [
    {
     "data": {
      "text/plain": [
       "\"Indeed, there have been some notable developments regarding Anthropic recently. Here are a few highlights:\\n\\n1. **Significant Funding Rounds**: Anthropic, an AI safety and research company, has successfully raised significant capital in recent funding rounds. These funds are intended to further their mission of creating AI systems that are beneficial, reliable, and aligned with human values.\\n\\n2. **Technological Advancements**: The company has made substantial progress in AI research, focusing on enhancing the safety and interpretability of AI systems. This involves pioneering work on scalable oversight and understanding how to make large language models more transparent and controllable.\\n\\n3. **Collaborations and Partnerships**: Anthropic has entered into strategic partnerships with both academic institutions and industry leaders. These collaborations aim to advance shared goals in AI safety, ethics, and responsible deployment.\\n\\n4. **Publications and Research Contributions**: The company's research is increasingly being recognized and published in top academic journals and conferences. These publications contribute valuable insights to the broader AI community, particularly in areas related to AI alignment and safety.\\n\\n5. **Commitment to Ethical AI**: Anthropic continues to emphasize the importance of ethics in AI development. The company's ongoing efforts in promoting ethical considerations in AI are reflected in their governance structures and research initiatives.\\n\\nThese elements illustrate Anthropic's proactive role in shaping the future of AI to ensure it is safe and aligned with human values.\""
      ]
     },
     "execution_count": 7,
     "metadata": {},
     "output_type": "execute_result"
    }
   ],
   "source": [
    "response.choices[0].message.content"
   ]
  }
 ],
 "metadata": {
  "kernelspec": {
   "display_name": "Python 3 (ipykernel)",
   "language": "python",
   "name": "python3"
  },
  "language_info": {
   "codemirror_mode": {
    "name": "ipython",
    "version": 3
   },
   "file_extension": ".py",
   "mimetype": "text/x-python",
   "name": "python",
   "nbconvert_exporter": "python",
   "pygments_lexer": "ipython3",
   "version": "3.11.5"
  }
 },
 "nbformat": 4,
 "nbformat_minor": 5
}
